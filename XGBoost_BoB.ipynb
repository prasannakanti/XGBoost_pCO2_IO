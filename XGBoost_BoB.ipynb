{
 "cells": [
  {
   "cell_type": "code",
   "execution_count": null,
   "id": "3d2fb1e3-1733-4d50-849f-5e424ea327b3",
   "metadata": {},
   "outputs": [],
   "source": [
    "from sklearn.linear_model import LinearRegression\n",
    "import pandas as pd\n",
    "import numpy as np\n",
    "import matplotlib.pyplot as plt\n",
    "from sklearn.metrics import r2_score\n",
    "from sklearn.metrics import mean_squared_error, mean_absolute_error\n",
    "from sklearn.preprocessing import MinMaxScaler\n",
    "from sklearn.preprocessing import StandardScaler\n",
    "from sklearn.preprocessing import RobustScaler\n",
    "from sklearn.model_selection import KFold\n",
    "import scipy.stats as stat\n",
    "import pylab\n",
    "import xgboost as xgb\n",
    "from sklearn.preprocessing import PolynomialFeatures"
   ]
  },
  {
   "cell_type": "code",
   "execution_count": null,
   "id": "23c91229-3694-495c-88e0-6e46c9322001",
   "metadata": {},
   "outputs": [],
   "source": [
    "X = pd.read_csv(\"Train_XBoB1.csv\",usecols=['temp','sal','mld','chla','dic','no3'])\n",
    "y = pd.read_csv(\"Train_yBoB1.csv\",usecols=['misfit'])\n",
    "X_test = pd.read_csv(\"Test_XBoB1.csv\",usecols=['temp','sal','mld','chla','dic','no3'])\n",
    "y_test = pd.read_csv(\"Test_yBoB1.csv\",usecols=['misfit'])\n",
    "\n",
    "X['chla'] =np.log(X['chla'])\n",
    "X['no3'] =np.log(X['no3'])\n",
    "X['mld'] =np.log(X['mld'])\n",
    "\n",
    "X_test['mld'] =np.log(X_test['mld'])\n",
    "X_test['no3'] =np.log(X_test['no3'])\n",
    "X_test['chla'] =np.log(X_test['chla'])\n"
   ]
  },
  {
   "cell_type": "code",
   "execution_count": null,
   "id": "0fe1153b-010e-4e2b-85e0-baa2c9ea657b",
   "metadata": {},
   "outputs": [],
   "source": [
    "# sc = StandardScaler()\n",
    "# X = sc.fit_transform(X)\n",
    "# X_test = sc.transform(X_test)"
   ]
  },
  {
   "cell_type": "code",
   "execution_count": null,
   "id": "ba4b07af-866f-4971-b36f-912defc2bb74",
   "metadata": {},
   "outputs": [],
   "source": [
    "kfold = KFold(n_splits=10)"
   ]
  },
  {
   "cell_type": "code",
   "execution_count": null,
   "id": "1ec769e5-f5e8-426a-be91-cbac3729e1f3",
   "metadata": {},
   "outputs": [],
   "source": [
    "#Used for prediction and written......................\n",
    "params={'lambda': 0.8040219538686119,\n",
    " 'alpha': 0.31013667167623227,\n",
    " 'subsample': 0.8340547614201859,\n",
    " 'colsample_bytree': 0.9780461930190425,\n",
    " 'max_depth': 25,\n",
    " 'min_child_weight': 28,\n",
    " 'learning_rate': 0.09942607393074405,\n",
    " 'gamma': 0.03187690049095798,\n",
    " 'n_estimators': 500,'random_state':0}"
   ]
  },
  {
   "cell_type": "code",
   "execution_count": null,
   "id": "2ea2d0c4-99ee-41c0-baec-187dc1735338",
   "metadata": {},
   "outputs": [],
   "source": [
    "for train_ix, val_ix in kfold.split(X):\n",
    "    X_train, X_val = X.iloc[train_ix], X.iloc[val_ix]\n",
    "    y_train, y_val = y.iloc[train_ix], y.iloc[val_ix]\n",
    "    # model = xgb.XGBRegressor()\n",
    "    model = xgb.XGBRegressor(**params)\n",
    "    model.fit(X_train,y_train,eval_set=[(X_train,y_train),(X_val,y_val)])"
   ]
  },
  {
   "cell_type": "code",
   "execution_count": null,
   "id": "e9a54df0-445d-49ec-bce7-c12f40072f46",
   "metadata": {},
   "outputs": [],
   "source": [
    "y_pred = model.predict(X_test)\n",
    "r21 = r2_score(y_test,y_pred)\n",
    "print(r21)\n",
    "rmse = mean_squared_error(y_test,y_pred,squared=False)\n",
    "print(rmse)"
   ]
  },
  {
   "cell_type": "code",
   "execution_count": null,
   "id": "70a5f72f-0bb2-4315-b580-5ba8b8e0a7e9",
   "metadata": {},
   "outputs": [],
   "source": [
    "y_pred_train = model.predict(X_train)\n",
    "r2_tr = r2_score(y_train,y_pred_train)\n",
    "print(r2_tr)\n",
    "rmse_tr = mean_squared_error(y_train,y_pred_train,squared=False)\n",
    "print(rmse_tr)\n",
    "\n",
    "mae_tr = mean_absolute_error(y_train,y_pred_train)\n",
    "print(mae_tr)"
   ]
  },
  {
   "cell_type": "code",
   "execution_count": null,
   "id": "ee4fffbe-0896-4a0b-884a-aa95755030cd",
   "metadata": {},
   "outputs": [],
   "source": [
    "results = model.evals_result()\n",
    "fig, ax = plt.subplots()\n",
    "ax.plot( results['validation_0']['rmse'], label='Train')\n",
    "ax.plot( results['validation_1']['rmse'], label='Test')\n",
    "ax.legend()\n",
    "plt.ylabel('rmse')\n",
    "plt.title('XGBoost')"
   ]
  },
  {
   "cell_type": "code",
   "execution_count": null,
   "id": "45bb67f4-3762-43d8-8f6c-0ca699a78d9c",
   "metadata": {},
   "outputs": [],
   "source": [
    "fig,ax=plt.subplots(figsize=(14,3))\n",
    "ax=ax.margins(x=0)\n",
    "plt.plot(y_test[0:50])\n",
    "plt.plot(y_pred[0:50])"
   ]
  },
  {
   "cell_type": "code",
   "execution_count": null,
   "id": "5910acdb-d393-491d-bdce-c8fff67689ec",
   "metadata": {},
   "outputs": [],
   "source": [
    "from joblib import dump\n",
    "# dump(model,\"xgb_SD_BoB.joblib_correctednew.dat\")"
   ]
  },
  {
   "cell_type": "code",
   "execution_count": null,
   "id": "4cb87613-8d77-45de-a561-1089e23a7eb9",
   "metadata": {},
   "outputs": [],
   "source": []
  }
 ],
 "metadata": {
  "kernelspec": {
   "display_name": "Python 3 (ipykernel)",
   "language": "python",
   "name": "python3"
  },
  "language_info": {
   "codemirror_mode": {
    "name": "ipython",
    "version": 3
   },
   "file_extension": ".py",
   "mimetype": "text/x-python",
   "name": "python",
   "nbconvert_exporter": "python",
   "pygments_lexer": "ipython3",
   "version": "3.10.14"
  }
 },
 "nbformat": 4,
 "nbformat_minor": 5
}
